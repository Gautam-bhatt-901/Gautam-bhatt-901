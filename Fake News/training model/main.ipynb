{
 "cells": [
  {
   "cell_type": "raw",
   "id": "bd67cc8f",
   "metadata": {},
   "source": [
    "About the Dataset:\n",
    "\n",
    "id: unique id for a news article\n",
    "title: the title of a news article\n",
    "author: author of the news article\n",
    "text: the text of the article; could be incomplete\n",
    "label: a label that marks whether the news article is real or fake:\n",
    "  -->  1: Fake News\n",
    "  -->  0: Real News"
   ]
  },
  {
   "cell_type": "markdown",
   "id": "96606991",
   "metadata": {},
   "source": [
    "## Importing the libraries : "
   ]
  },
  {
   "cell_type": "code",
   "execution_count": 1,
   "id": "9cba775f",
   "metadata": {},
   "outputs": [],
   "source": [
    "import numpy as np\n",
    "import pandas as pd\n",
    "import re\n",
    "from nltk.corpus import stopwords"
   ]
  },
  {
   "cell_type": "code",
   "execution_count": 2,
   "id": "7ff394bb",
   "metadata": {
    "scrolled": false
   },
   "outputs": [],
   "source": [
    "# import nltk\n",
    "# nltk.download('stopwords')"
   ]
  },
  {
   "cell_type": "code",
   "execution_count": 3,
   "id": "7919159b",
   "metadata": {},
   "outputs": [],
   "source": [
    "# stopwords.words('english')"
   ]
  },
  {
   "cell_type": "markdown",
   "id": "441cbe6b",
   "metadata": {},
   "source": [
    "## Data Preprocessing "
   ]
  },
  {
   "cell_type": "code",
   "execution_count": 4,
   "id": "a033826c",
   "metadata": {},
   "outputs": [],
   "source": [
    "# loading the dataset \n",
    "news_data = pd.read_csv(\"train.csv\")"
   ]
  },
  {
   "cell_type": "code",
   "execution_count": 5,
   "id": "760b14fd",
   "metadata": {},
   "outputs": [
    {
     "data": {
      "text/html": [
       "<div>\n",
       "<style scoped>\n",
       "    .dataframe tbody tr th:only-of-type {\n",
       "        vertical-align: middle;\n",
       "    }\n",
       "\n",
       "    .dataframe tbody tr th {\n",
       "        vertical-align: top;\n",
       "    }\n",
       "\n",
       "    .dataframe thead th {\n",
       "        text-align: right;\n",
       "    }\n",
       "</style>\n",
       "<table border=\"1\" class=\"dataframe\">\n",
       "  <thead>\n",
       "    <tr style=\"text-align: right;\">\n",
       "      <th></th>\n",
       "      <th>id</th>\n",
       "      <th>title</th>\n",
       "      <th>author</th>\n",
       "      <th>text</th>\n",
       "      <th>label</th>\n",
       "    </tr>\n",
       "  </thead>\n",
       "  <tbody>\n",
       "    <tr>\n",
       "      <th>0</th>\n",
       "      <td>0</td>\n",
       "      <td>House Dem Aide: We Didn’t Even See Comey’s Let...</td>\n",
       "      <td>Darrell Lucus</td>\n",
       "      <td>House Dem Aide: We Didn’t Even See Comey’s Let...</td>\n",
       "      <td>1</td>\n",
       "    </tr>\n",
       "    <tr>\n",
       "      <th>1</th>\n",
       "      <td>1</td>\n",
       "      <td>FLYNN: Hillary Clinton, Big Woman on Campus - ...</td>\n",
       "      <td>Daniel J. Flynn</td>\n",
       "      <td>Ever get the feeling your life circles the rou...</td>\n",
       "      <td>0</td>\n",
       "    </tr>\n",
       "    <tr>\n",
       "      <th>2</th>\n",
       "      <td>2</td>\n",
       "      <td>Why the Truth Might Get You Fired</td>\n",
       "      <td>Consortiumnews.com</td>\n",
       "      <td>Why the Truth Might Get You Fired October 29, ...</td>\n",
       "      <td>1</td>\n",
       "    </tr>\n",
       "    <tr>\n",
       "      <th>3</th>\n",
       "      <td>3</td>\n",
       "      <td>15 Civilians Killed In Single US Airstrike Hav...</td>\n",
       "      <td>Jessica Purkiss</td>\n",
       "      <td>Videos 15 Civilians Killed In Single US Airstr...</td>\n",
       "      <td>1</td>\n",
       "    </tr>\n",
       "    <tr>\n",
       "      <th>4</th>\n",
       "      <td>4</td>\n",
       "      <td>Iranian woman jailed for fictional unpublished...</td>\n",
       "      <td>Howard Portnoy</td>\n",
       "      <td>Print \\nAn Iranian woman has been sentenced to...</td>\n",
       "      <td>1</td>\n",
       "    </tr>\n",
       "  </tbody>\n",
       "</table>\n",
       "</div>"
      ],
      "text/plain": [
       "   id                                              title              author  \\\n",
       "0   0  House Dem Aide: We Didn’t Even See Comey’s Let...       Darrell Lucus   \n",
       "1   1  FLYNN: Hillary Clinton, Big Woman on Campus - ...     Daniel J. Flynn   \n",
       "2   2                  Why the Truth Might Get You Fired  Consortiumnews.com   \n",
       "3   3  15 Civilians Killed In Single US Airstrike Hav...     Jessica Purkiss   \n",
       "4   4  Iranian woman jailed for fictional unpublished...      Howard Portnoy   \n",
       "\n",
       "                                                text  label  \n",
       "0  House Dem Aide: We Didn’t Even See Comey’s Let...      1  \n",
       "1  Ever get the feeling your life circles the rou...      0  \n",
       "2  Why the Truth Might Get You Fired October 29, ...      1  \n",
       "3  Videos 15 Civilians Killed In Single US Airstr...      1  \n",
       "4  Print \\nAn Iranian woman has been sentenced to...      1  "
      ]
     },
     "execution_count": 5,
     "metadata": {},
     "output_type": "execute_result"
    }
   ],
   "source": [
    "news_data.head()"
   ]
  },
  {
   "cell_type": "code",
   "execution_count": 6,
   "id": "f49eabcf",
   "metadata": {},
   "outputs": [
    {
     "data": {
      "text/plain": [
       "id           0\n",
       "title      558\n",
       "author    1957\n",
       "text        39\n",
       "label        0\n",
       "dtype: int64"
      ]
     },
     "execution_count": 6,
     "metadata": {},
     "output_type": "execute_result"
    }
   ],
   "source": [
    "# printing the number of null items in the dataset\n",
    "news_data.isnull().sum()"
   ]
  },
  {
   "cell_type": "code",
   "execution_count": 7,
   "id": "24d09fd4",
   "metadata": {},
   "outputs": [],
   "source": [
    "# replacing the null items to the empty string  \n",
    "news_data = news_data.fillna(\" \")"
   ]
  },
  {
   "cell_type": "code",
   "execution_count": 8,
   "id": "83eaa10a",
   "metadata": {},
   "outputs": [
    {
     "data": {
      "text/plain": [
       "id        0\n",
       "title     0\n",
       "author    0\n",
       "text      0\n",
       "label     0\n",
       "dtype: int64"
      ]
     },
     "execution_count": 8,
     "metadata": {},
     "output_type": "execute_result"
    }
   ],
   "source": [
    "news_data.isnull().sum()"
   ]
  },
  {
   "cell_type": "code",
   "execution_count": 9,
   "id": "2110aae5",
   "metadata": {},
   "outputs": [],
   "source": [
    "# merging the author name and news title \n",
    "news_data['content'] = news_data['title']"
   ]
  },
  {
   "cell_type": "code",
   "execution_count": 10,
   "id": "02e16985",
   "metadata": {},
   "outputs": [
    {
     "data": {
      "text/plain": [
       "0        House Dem Aide: We Didn’t Even See Comey’s Let...\n",
       "1        FLYNN: Hillary Clinton, Big Woman on Campus - ...\n",
       "2                        Why the Truth Might Get You Fired\n",
       "3        15 Civilians Killed In Single US Airstrike Hav...\n",
       "4        Iranian woman jailed for fictional unpublished...\n",
       "                               ...                        \n",
       "20795    Rapper T.I.: Trump a ’Poster Child For White S...\n",
       "20796    N.F.L. Playoffs: Schedule, Matchups and Odds -...\n",
       "20797    Macy’s Is Said to Receive Takeover Approach by...\n",
       "20798    NATO, Russia To Hold Parallel Exercises In Bal...\n",
       "20799                            What Keeps the F-35 Alive\n",
       "Name: content, Length: 20800, dtype: object"
      ]
     },
     "execution_count": 10,
     "metadata": {},
     "output_type": "execute_result"
    }
   ],
   "source": [
    "news_data['content']"
   ]
  },
  {
   "cell_type": "markdown",
   "id": "e81f1380",
   "metadata": {},
   "source": [
    "## Stemming : "
   ]
  },
  {
   "cell_type": "raw",
   "id": "af47da81",
   "metadata": {},
   "source": [
    "Stemming is the process of reducing a word to its Root word\n",
    "Example of stemming for root word \"like\" include:\n",
    "\n",
    "-> \"likes\"\n",
    "-> \"liked\"\n",
    "-> \"likely\"\n",
    "-> \"liking\""
   ]
  },
  {
   "cell_type": "code",
   "execution_count": 11,
   "id": "99ace036",
   "metadata": {},
   "outputs": [],
   "source": [
    "# from nltk.stem.porter import PorterStemmer\n",
    "# port_stem = PorterStemmer()"
   ]
  },
  {
   "cell_type": "code",
   "execution_count": 12,
   "id": "a31ee408",
   "metadata": {},
   "outputs": [],
   "source": [
    "# # creating a function which will apply stemming in every word \n",
    "# def stemming(content):\n",
    "#     stemmed_content = re.sub('[^a-zA-Z]', ' ', content)\n",
    "#     stemmed_content = stemmed_content.lower()\n",
    "#     stemmed_content = stemmed_content.split()\n",
    "#     stemmed_content = [port_stem.stem(word) for word in stemmed_content if not word in stopwords.words('english')]\n",
    "#     stemmed_content = ' '.join(stemmed_content)\n",
    "#     return stemmed_content"
   ]
  },
  {
   "cell_type": "code",
   "execution_count": 13,
   "id": "f6a5060a",
   "metadata": {},
   "outputs": [],
   "source": [
    "# news_data['content'] = news_data['content'].apply(stemming)"
   ]
  },
  {
   "cell_type": "code",
   "execution_count": 14,
   "id": "37bca863",
   "metadata": {},
   "outputs": [
    {
     "data": {
      "text/plain": [
       "0        House Dem Aide: We Didn’t Even See Comey’s Let...\n",
       "1        FLYNN: Hillary Clinton, Big Woman on Campus - ...\n",
       "2                        Why the Truth Might Get You Fired\n",
       "3        15 Civilians Killed In Single US Airstrike Hav...\n",
       "4        Iranian woman jailed for fictional unpublished...\n",
       "                               ...                        \n",
       "20795    Rapper T.I.: Trump a ’Poster Child For White S...\n",
       "20796    N.F.L. Playoffs: Schedule, Matchups and Odds -...\n",
       "20797    Macy’s Is Said to Receive Takeover Approach by...\n",
       "20798    NATO, Russia To Hold Parallel Exercises In Bal...\n",
       "20799                            What Keeps the F-35 Alive\n",
       "Name: content, Length: 20800, dtype: object"
      ]
     },
     "execution_count": 14,
     "metadata": {},
     "output_type": "execute_result"
    }
   ],
   "source": [
    "news_data['content']"
   ]
  },
  {
   "cell_type": "code",
   "execution_count": 15,
   "id": "4b1ba32d",
   "metadata": {},
   "outputs": [],
   "source": [
    "# seperating the data and label \n",
    "X = news_data['content'].values\n",
    "Y = news_data['label'].values"
   ]
  },
  {
   "cell_type": "code",
   "execution_count": 16,
   "id": "e529721c",
   "metadata": {},
   "outputs": [
    {
     "name": "stdout",
     "output_type": "stream",
     "text": [
      "['House Dem Aide: We Didn’t Even See Comey’s Letter Until Jason Chaffetz Tweeted It'\n",
      " 'FLYNN: Hillary Clinton, Big Woman on Campus - Breitbart'\n",
      " 'Why the Truth Might Get You Fired' ...\n",
      " 'Macy’s Is Said to Receive Takeover Approach by Hudson’s Bay - The New York Times'\n",
      " 'NATO, Russia To Hold Parallel Exercises In Balkans'\n",
      " 'What Keeps the F-35 Alive']\n"
     ]
    }
   ],
   "source": [
    "print(X)"
   ]
  },
  {
   "cell_type": "code",
   "execution_count": 17,
   "id": "b77d148c",
   "metadata": {},
   "outputs": [
    {
     "name": "stdout",
     "output_type": "stream",
     "text": [
      "[1 0 1 ... 0 1 1]\n"
     ]
    }
   ],
   "source": [
    "print(Y)"
   ]
  },
  {
   "cell_type": "markdown",
   "id": "fbbb5260",
   "metadata": {},
   "source": [
    "## Converting the textual data into the numerical data\n",
    "So that the model can understand and make predictions"
   ]
  },
  {
   "cell_type": "code",
   "execution_count": 18,
   "id": "53a8b4ad",
   "metadata": {},
   "outputs": [],
   "source": [
    "from sklearn.feature_extraction.text import TfidfVectorizer"
   ]
  },
  {
   "cell_type": "code",
   "execution_count": 19,
   "id": "06edbce3",
   "metadata": {},
   "outputs": [],
   "source": [
    "vector = TfidfVectorizer()\n",
    "vector.fit(X) # The variable X have our stemmed data\n",
    "X = vector.transform(X)"
   ]
  },
  {
   "cell_type": "code",
   "execution_count": 20,
   "id": "1af52b5c",
   "metadata": {},
   "outputs": [
    {
     "name": "stdout",
     "output_type": "stream",
     "text": [
      "  (0, 20993)\t0.19474659608460163\n",
      "  (0, 20360)\t0.28742097773915143\n",
      "  (0, 20010)\t0.3768145560270482\n",
      "  (0, 17169)\t0.24375630561009903\n",
      "  (0, 11216)\t0.26912270344212486\n",
      "  (0, 10326)\t0.3023289263011112\n",
      "  (0, 10247)\t0.16582278445384005\n",
      "  (0, 9386)\t0.20041027857069765\n",
      "  (0, 6878)\t0.24926429301181982\n",
      "  (0, 5568)\t0.2668922837502577\n",
      "  (0, 5246)\t0.2706852894484654\n",
      "  (0, 4029)\t0.22205447121783736\n",
      "  (0, 3457)\t0.33072883488177524\n",
      "  (0, 822)\t0.28502782091086426\n",
      "  (1, 21334)\t0.39360717600312567\n",
      "  (1, 13507)\t0.21060274898999704\n",
      "  (1, 9155)\t0.24935186416138613\n",
      "  (1, 7669)\t0.4821092709819335\n",
      "  (1, 3836)\t0.25244659620182697\n",
      "  (1, 3147)\t0.5009555435818291\n",
      "  (1, 2752)\t0.20822336759105836\n",
      "  (1, 2284)\t0.38480054625610366\n",
      "  (2, 21548)\t0.30696759622100733\n",
      "  (2, 21179)\t0.3347280896066456\n",
      "  (2, 19920)\t0.43134210729209976\n",
      "  :\t:\n",
      "  (20797, 19486)\t0.09292089521946761\n",
      "  (20797, 19334)\t0.07527441601260844\n",
      "  (20797, 19072)\t0.3521422215000689\n",
      "  (20797, 16785)\t0.2782265988101692\n",
      "  (20797, 15718)\t0.3552849830462018\n",
      "  (20797, 13064)\t0.09008594729781287\n",
      "  (20797, 11638)\t0.405269235630744\n",
      "  (20797, 10209)\t0.14711797135243715\n",
      "  (20797, 9419)\t0.3880743224111825\n",
      "  (20797, 3040)\t0.16986229072095718\n",
      "  (20797, 2045)\t0.37587433732809516\n",
      "  (20797, 1327)\t0.3521422215000689\n",
      "  (20798, 19520)\t0.12021465841049195\n",
      "  (20798, 16707)\t0.23168304874364712\n",
      "  (20798, 13942)\t0.47257807978944466\n",
      "  (20798, 12924)\t0.3303374946602197\n",
      "  (20798, 9724)\t0.13510492169072963\n",
      "  (20798, 9241)\t0.3667493368667659\n",
      "  (20798, 6975)\t0.47257807978944466\n",
      "  (20798, 1868)\t0.47257807978944466\n",
      "  (20799, 21107)\t0.3185284474796143\n",
      "  (20799, 19334)\t0.12155849075822305\n",
      "  (20799, 10634)\t0.5408967805381297\n",
      "  (20799, 940)\t0.5317521158888292\n",
      "  (20799, 258)\t0.555367915459697\n"
     ]
    }
   ],
   "source": [
    "print(X)"
   ]
  },
  {
   "cell_type": "markdown",
   "id": "9fc38198",
   "metadata": {},
   "source": [
    "Splitting the dataset to trainig and test data"
   ]
  },
  {
   "cell_type": "code",
   "execution_count": 21,
   "id": "e6b87a1e",
   "metadata": {},
   "outputs": [],
   "source": [
    "from sklearn.model_selection import train_test_split\n",
    "\n",
    "X_train, X_test, Y_train, Y_test = train_test_split(X, Y, test_size = 0.2, stratify = Y, random_state = 2)"
   ]
  },
  {
   "cell_type": "markdown",
   "id": "66552987",
   "metadata": {},
   "source": [
    "# Training the model through : Logistic Regression \n",
    "Logistic Regression is mainly used for binary classification where the values are either 1 or 0, yes or no, and True or False"
   ]
  },
  {
   "cell_type": "code",
   "execution_count": 22,
   "id": "ee56d2bd",
   "metadata": {},
   "outputs": [
    {
     "data": {
      "text/plain": [
       "LogisticRegression()"
      ]
     },
     "execution_count": 22,
     "metadata": {},
     "output_type": "execute_result"
    }
   ],
   "source": [
    "from sklearn.linear_model import LogisticRegression\n",
    "from sklearn.metrics import accuracy_score\n",
    "\n",
    "model = LogisticRegression()\n",
    "model.fit(X_train, Y_train)"
   ]
  },
  {
   "cell_type": "markdown",
   "id": "38e01499",
   "metadata": {},
   "source": [
    "Evaluation and accuracy : "
   ]
  },
  {
   "cell_type": "code",
   "execution_count": 23,
   "id": "0d012f99",
   "metadata": {},
   "outputs": [],
   "source": [
    "X_train_prediction = model.predict(X_train)\n",
    "training_data_accuracy = accuracy_score(X_train_prediction, Y_train)"
   ]
  },
  {
   "cell_type": "code",
   "execution_count": 24,
   "id": "686b8404",
   "metadata": {},
   "outputs": [
    {
     "name": "stdout",
     "output_type": "stream",
     "text": [
      "Accuracy on training data :  0.9414663461538462\n"
     ]
    }
   ],
   "source": [
    "print(\"Accuracy on training data : \", training_data_accuracy)"
   ]
  },
  {
   "cell_type": "markdown",
   "id": "f6aecd40",
   "metadata": {},
   "source": [
    "### Accuracy score on test data : "
   ]
  },
  {
   "cell_type": "code",
   "execution_count": 25,
   "id": "a61a9d28",
   "metadata": {},
   "outputs": [],
   "source": [
    "X_test_prediction = model.predict(X_test)\n",
    "test_data_accuracy = accuracy_score(X_test_prediction, Y_test)"
   ]
  },
  {
   "cell_type": "code",
   "execution_count": 26,
   "id": "fab3b481",
   "metadata": {},
   "outputs": [
    {
     "name": "stdout",
     "output_type": "stream",
     "text": [
      "Accuracy on test data :  0.9307692307692308\n"
     ]
    }
   ],
   "source": [
    "print(\"Accuracy on test data : \", test_data_accuracy)"
   ]
  },
  {
   "cell_type": "markdown",
   "id": "6d8dd6d9",
   "metadata": {},
   "source": [
    "### Predictive system "
   ]
  },
  {
   "cell_type": "code",
   "execution_count": 44,
   "id": "9b1b43d9",
   "metadata": {
    "scrolled": true
   },
   "outputs": [
    {
     "name": "stdout",
     "output_type": "stream",
     "text": [
      "The news is Fake\n"
     ]
    }
   ],
   "source": [
    "X_new = X_test[11]\n",
    "\n",
    "prediction = model.predict(X_new)\n",
    "\n",
    "if (prediction[0] == 0):\n",
    "    print(\"The news is Real\")\n",
    "else:\n",
    "    print(\"The news is Fake\")"
   ]
  },
  {
   "cell_type": "code",
   "execution_count": 47,
   "id": "99f5797d",
   "metadata": {},
   "outputs": [],
   "source": [
    "pickle.dump(model, open('model.pkl', \"wb\"))\n",
    "pickle.dump(vector, open('vector.pkl', \"wb\"))"
   ]
  },
  {
   "cell_type": "code",
   "execution_count": 46,
   "id": "5a9ad2f8",
   "metadata": {},
   "outputs": [
    {
     "name": "stdout",
     "output_type": "stream",
     "text": [
      "[1]\n"
     ]
    }
   ],
   "source": [
    "model = pickle.load(open('model.pkl', \"rb\"))\n",
    "\n",
    "print(model.predict(X_new))"
   ]
  },
  {
   "cell_type": "code",
   "execution_count": null,
   "id": "f908441f",
   "metadata": {},
   "outputs": [],
   "source": []
  }
 ],
 "metadata": {
  "kernelspec": {
   "display_name": "Python 3 (ipykernel)",
   "language": "python",
   "name": "python3"
  },
  "language_info": {
   "codemirror_mode": {
    "name": "ipython",
    "version": 3
   },
   "file_extension": ".py",
   "mimetype": "text/x-python",
   "name": "python",
   "nbconvert_exporter": "python",
   "pygments_lexer": "ipython3",
   "version": "3.9.13"
  }
 },
 "nbformat": 4,
 "nbformat_minor": 5
}
